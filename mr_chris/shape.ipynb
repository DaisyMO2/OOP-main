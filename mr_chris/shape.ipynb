{
 "cells": [
  {
   "cell_type": "code",
   "execution_count": 2,
   "id": "9998a8c9",
   "metadata": {},
   "outputs": [
    {
     "name": "stdout",
     "output_type": "stream",
     "text": [
      "Shape created with area\n",
      "Rectangle created with width and height\n"
     ]
    },
    {
     "ename": "TypeError",
     "evalue": "'int' object is not callable",
     "output_type": "error",
     "traceback": [
      "\u001b[31m---------------------------------------------------------------------------\u001b[39m",
      "\u001b[31mTypeError\u001b[39m                                 Traceback (most recent call last)",
      "\u001b[36mCell\u001b[39m\u001b[36m \u001b[39m\u001b[32mIn[2]\u001b[39m\u001b[32m, line 16\u001b[39m\n\u001b[32m     12\u001b[39m         \u001b[38;5;28mprint\u001b[39m(\u001b[33m\"\u001b[39m\u001b[33mRectangle created with width and height\u001b[39m\u001b[33m\"\u001b[39m)\n\u001b[32m     15\u001b[39m Rec = Rectangle(\u001b[32m5\u001b[39m, \u001b[32m10\u001b[39m)\n\u001b[32m---> \u001b[39m\u001b[32m16\u001b[39m \u001b[43mRec\u001b[49m\u001b[43m.\u001b[49m\u001b[43marea\u001b[49m\u001b[43m(\u001b[49m\u001b[43m)\u001b[49m    \n",
      "\u001b[31mTypeError\u001b[39m: 'int' object is not callable"
     ]
    }
   ],
   "source": [
    "class Shape:\n",
    "    def __init__(self, area):\n",
    "        self.area = area\n",
    "        print(\"Shape created with area\")\n",
    "        \n",
    "class Rectangle(Shape):\n",
    "    def __init__(self, width, height):\n",
    "        area = width * height\n",
    "        super().__init__(area)\n",
    "        self.width = width\n",
    "        self.height = height\n",
    "        print(\"Rectangle created with width and height\")\n",
    "        \n",
    "    \n",
    "Rec = Rectangle(5, 10)\n",
    "Rec.area()    "
   ]
  }
 ],
 "metadata": {
  "kernelspec": {
   "display_name": "Python 3",
   "language": "python",
   "name": "python3"
  },
  "language_info": {
   "codemirror_mode": {
    "name": "ipython",
    "version": 3
   },
   "file_extension": ".py",
   "mimetype": "text/x-python",
   "name": "python",
   "nbconvert_exporter": "python",
   "pygments_lexer": "ipython3",
   "version": "3.13.7"
  }
 },
 "nbformat": 4,
 "nbformat_minor": 5
}
