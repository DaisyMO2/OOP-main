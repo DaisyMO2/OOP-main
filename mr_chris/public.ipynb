{
 "cells": [
  {
   "cell_type": "code",
   "execution_count": 4,
   "id": "9be300ca",
   "metadata": {},
   "outputs": [],
   "source": [
    "class student:\n",
    "    def __init__ (self, name, cgpa):\n",
    "        self.name = name                   #public\n",
    "        self._age = 20                      #protected\n",
    "        self.__cgpa = cgpa                  #private\n",
    "          "
   ]
  },
  {
   "cell_type": "code",
   "execution_count": 5,
   "id": "b8574a67",
   "metadata": {},
   "outputs": [
    {
     "ename": "TypeError",
     "evalue": "student.__init__() missing 1 required positional argument: 'cgpa'",
     "output_type": "error",
     "traceback": [
      "\u001b[31m---------------------------------------------------------------------------\u001b[39m",
      "\u001b[31mTypeError\u001b[39m                                 Traceback (most recent call last)",
      "\u001b[36mCell\u001b[39m\u001b[36m \u001b[39m\u001b[32mIn[5]\u001b[39m\u001b[32m, line 1\u001b[39m\n\u001b[32m----> \u001b[39m\u001b[32m1\u001b[39m s = \u001b[43mstudent\u001b[49m\u001b[43m \u001b[49m\u001b[43m(\u001b[49m\u001b[33;43m\"\u001b[39;49m\u001b[33;43mdaisy, 4.5\u001b[39;49m\u001b[33;43m\"\u001b[39;49m\u001b[43m)\u001b[49m\n\u001b[32m      2\u001b[39m \u001b[38;5;28mprint\u001b[39m(s.get_cgpa())  \u001b[38;5;66;03m#safe access\u001b[39;00m\n\u001b[32m      3\u001b[39m s.set_cgpa(\u001b[32m10\u001b[39m)   \u001b[38;5;66;03m#invaild\u001b[39;00m\n",
      "\u001b[31mTypeError\u001b[39m: student.__init__() missing 1 required positional argument: 'cgpa'"
     ]
    }
   ],
   "source": [
    "s = student (\"Daisy, 4.5\")\n",
    "print(s.get_cgpa())  #safe access\n",
    "s.set_cgpa(10)   #invaild"
   ]
  },
  {
   "cell_type": "code",
   "execution_count": 6,
   "id": "8455b474",
   "metadata": {},
   "outputs": [],
   "source": [
    "def get_cgpa(self):\n",
    "        return self.__cgpa"
   ]
  },
  {
   "cell_type": "code",
   "execution_count": 7,
   "id": "c7179f17",
   "metadata": {},
   "outputs": [],
   "source": [
    "def set_cgpa(self, value):\n",
    "        if 0.0 <= value <= 5.0:\n",
    "            self.__cgpa = value\n",
    "        else:\n",
    "            print(\"cgpa must be between 0 nad 5\")"
   ]
  }
 ],
 "metadata": {
  "kernelspec": {
   "display_name": "Python 3",
   "language": "python",
   "name": "python3"
  },
  "language_info": {
   "codemirror_mode": {
    "name": "ipython",
    "version": 3
   },
   "file_extension": ".py",
   "mimetype": "text/x-python",
   "name": "python",
   "nbconvert_exporter": "python",
   "pygments_lexer": "ipython3",
   "version": "3.13.7"
  }
 },
 "nbformat": 4,
 "nbformat_minor": 5
}
